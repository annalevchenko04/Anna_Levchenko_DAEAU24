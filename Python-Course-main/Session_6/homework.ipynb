import os
import pandas as pd

PATH_TO_SALES = "./source_files/sales.csv"
PATH_TO_HOUSES = "./source_files/houses.csv"
PATH_TO_EMPLOYEES = "./source_files/employees.csv"

# Create DataFrames
sales = pd.read_csv(PATH_TO_SALES)
houses = pd.read_csv(PATH_TO_HOUSES)
employees = pd.read_csv(PATH_TO_EMPLOYEES)

# Check the shape and columns of each dataframe
assert 993112 == len(sales), "Incorrect size of sales DataFrame"
assert 1019875 == len(houses), "Incorrect size of houses DataFrame"
assert 870 == len(employees), "Incorrect size of employees DataFrame"

# Check the columns
assert (['LOCATION_ID', 'HOUSE_ID', 'DATERECORDED', 'BRANCH_ID', 'CUSTOMER_ID',
         'COST', 'SALEAMOUNT', 'PAYMENT_TYPE_ID', 'PAYMENT_TYPE', 'EMP_ID'] == sales.columns).all(), "Incorrect column names for sales DataFrame"
assert (['HOUSE_ID', 'HOUSE_NAME', 'HOUSE_CATEGORY_ID', 'HOUSE_CATEGORY',
         'HOUSE_SUBCATEGORY_ID', 'HOUSE_SUBCATEGORY', 'SQUARE', 'PRICE',
         'LOCATION_ID', 'UPDATE_DT'] == houses.columns).all(), "Incorrect column names for houses DataFrame"
assert (['EMP_ID', 'EMP_FIRST_NAME', 'EMP_LAST_NAME', 'EMP_GENDER',
         'EMP_DATE_BIRTH', 'EMP_START_DATE', 'EMP_BRANCH'] == employees.columns).all(), "Incorrect column names for employees DataFrame"
print("Tests were passed")

names = employees.iloc[2:10, [1, 2]]  # First name and last name from rows 3 to 10
assert "Shelia" == names.iloc[0]['EMP_FIRST_NAME'], "Incorrect name of first person"
assert "Larchier" == names.iloc[0]['EMP_LAST_NAME'], "Incorrect surname of first person"
assert "Andonis" == names.iloc[7]['EMP_FIRST_NAME'], "Incorrect name of last person"
assert "Muress" == names.iloc[7]['EMP_LAST_NAME'], "Incorrect surname of last person"
print("Tests were passed")

amount_by_gender = employees['EMP_GENDER'].value_counts()
assert (amount_by_gender.index[0] == "M") and (amount_by_gender[0] == 436), "Incorrect number of men"
assert (amount_by_gender.index[1] == "F") and (amount_by_gender[1] == 434), "Incorrect number of women"
print("Tests were passed")
houses["SQUARE"].fillna(0, inplace=True)
assert len(houses[houses["SQUARE"].isna()]) == 0, "There are empty cells on square columns"
print("Test was passed")
houses['UNIT_PRICE'] = houses.apply(lambda row: round(row['PRICE'] / row['SQUARE'], 2) if row['SQUARE'] > 0 else -1, axis=1)
assert 'UNIT_PRICE' in houses.columns, "UNIT_PRICE column is missed in houses DataFrame"
assert houses['UNIT_PRICE'].iloc[0] == 2015, "UNIT_PRICE column is calculated incorrectly in houses DataFrame"
assert houses['UNIT_PRICE'].iloc[31] == 2015.00, "Incorrect rounding for UNIT_PRICE column"
assert houses['UNIT_PRICE'].iloc[20] == -1, "Incorrect value for UNIT_PRICE column in case SQUARE column = 0"
print("Tests were passed")
houses_sorted = houses.sort_values(by='PRICE', ascending=False)
houses_sorted.to_json('./output_files/task_6.json', orient='records')
assert houses["PRICE"].iloc[-1] == 30400, "Incorrect sorting"
assert houses["PRICE"].iloc[0] == 558600, "Incorrect sorting"
assert os.path.exists('./output_files/task_6.json'), "No task_6.json file in the output_files folder"
print("Tests were passed")
employees_filtered = employees[(employees['EMP_GENDER'] == 'F') & (employees['EMP_FIRST_NAME'] == 'Vera')]
assert len(employees_filtered) == 1, "Incorrect number of women with name Vera"
print("Test was passed")
df = houses[houses["SQUARE"] >= 100].groupby(['HOUSE_CATEGORY', 'HOUSE_SUBCATEGORY']).size()
assert df[0] == 1150, "Incorrect count"
assert df[1] == 29644, "Incorrect count"
assert df[2] == 70076, "Incorrect count"
assert df[3] == 86618, "Incorrect count"
assert df.index[0] == ('non-residential', 'office'), "Incorrect group by columns"
assert df.index[1] == ('non-residential', 'stock'), "Incorrect group by columns"
assert df.index[2] == ('residential', 'duplex house'), "Incorrect group by columns"
assert df.index[3] == ('residential', 'single-family house'), "Incorrect group by columns"
print("Tests were passed")
import fastavro
from io import BytesIO

# Convert df to a dictionary
avro_schema = {
    "type": "record",
    "name": "HouseGroup",
    "fields": [
        {"name": "Category", "type": "string"},
        {"name": "Subcategory", "type": "string"},
        {"name": "Count", "type": "int"}
    ]
}

# Write to avro
avro_file = './output_files/task_9.avro'
with open(avro_file, 'wb') as f:
    writer = fastavro.writer(f, avro_schema, df.reset_index().to_dict('records'))

assert os.path.exists(avro_file), "No task_9.avro file in the output_files folder"
print("Tests were passed")
avg_sales_amount = sales['SALEAMOUNT'].mean()
sales['SALEAMOUNT'] = sales['SALEAMOUNT'].apply(lambda x: x + avg_sales_amount * 0.02)
assert sales['SALEAMOUNT'][0] == 52000.740744939336, "Value in SALESAMOUNT column is incorrect after update"
print("Test was passed")
unsold_houses = houses[~houses['HOUSE_ID'].isin(sales['HOUSE_ID'])]
unsold_houses.to_json('./output_files/task_11.json', orient='records')

house_ids_available = unsold_houses['HOUSE_NAME'].unique().tolist()

assert os.path.exists('./output_files/task_11.json'), "No task_11.json file in the output_files folder"
assert type(house_ids_available) == list, "house_ids_available is not list"
assert len(house_ids_available) == 26775, "Incorrect number of houses"
assert (917505 in house_ids_available) and (131073 in house_ids_available), "Incorrect values in house_ids_available list"
print("Tests were passed")
# Sum sales by employee
sales_by_emp = sales.groupby('EMP_ID')['SALEAMOUNT'].sum().reset_index()

# Merge with employee data
emp_sales = pd.merge(employees[['EMP_ID', 'EMP_FIRST_NAME', 'EMP_LAST_NAME']], sales_by_emp, on='EMP_ID')

# Add color for those with sales below average
average_sales = emp_sales['SALEAMOUNT'].mean()
emp_sales['highlight'] = emp_sales['SALEAMOUNT'].apply(lambda x: 'background-color: red' if x < average_sales else '')

# Save to Excel with conditional formatting
with pd.ExcelWriter('./output_files/task_12.xlsx', engine='xlsxwriter') as writer:
    emp_sales.to_excel(writer, index=False, sheet_name='Employee Sales')
    worksheet = writer.sheets['Employee Sales']
    worksheet.conditional_format('D2:D1000', {'type': 'cell', 'criteria': '<', 'value': average_sales, 'format': writer.book.add_format({'bg_color': 'red'})})

assert os.path.exists('./output_files/task_12.xlsx'), "No task_12.xlsx file in the output_files folder"
print("Test was passed")
